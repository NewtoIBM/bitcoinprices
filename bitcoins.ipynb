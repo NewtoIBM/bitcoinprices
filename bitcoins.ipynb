{
  "nbformat": 4,
  "nbformat_minor": 0,
  "metadata": {
    "colab": {
      "name": "bitcoins.ipynb",
      "provenance": [],
      "collapsed_sections": []
    },
    "kernelspec": {
      "name": "python3",
      "display_name": "Python 3"
    },
    "language_info": {
      "name": "python"
    }
  },
  "cells": [
    {
      "cell_type": "code",
      "metadata": {
        "id": "XAQQmd3wZEw8"
      },
      "source": [
        " Import Train and Test Data \n",
        "source  = '/Users/Administrator/Downloads/' \n",
        "datafile = pd.read_csv(source + 'bitcoind.csv')\n",
        "#columns = ['Basic_Size','Gr','Target_Pull_Size']\n",
        "bitcoindf = pd.DataFrame(datafile)\n",
        "bitcoindf.tail(50)"
      ],
      "execution_count": null,
      "outputs": []
    },
    {
      "cell_type": "code",
      "metadata": {
        "id": "fvbDR3aZZVwd"
      },
      "source": [
        "#import modules\n",
        "from datetime import date\n",
        "#convert column \"date\" into datetime format\n",
        "bitcoindf['Date'] = pd.to_datetime(bitcoindf['Date'])\n",
        "#apply weeks of year"
      ],
      "execution_count": null,
      "outputs": []
    },
    {
      "cell_type": "code",
      "metadata": {
        "id": "5svLNkZuZgJR"
      },
      "source": [
        "bitcoindf=bitcoindf.set_index('Date')\n",
        "bitcoindf.head()"
      ],
      "execution_count": null,
      "outputs": []
    },
    {
      "cell_type": "code",
      "metadata": {
        "id": "XUKrfRaDZi8f"
      },
      "source": [
        "#x and y axes input data\n",
        "y = bitcoindf['Price']"
      ],
      "execution_count": null,
      "outputs": []
    },
    {
      "cell_type": "code",
      "metadata": {
        "id": "I6PpJc6pZjyx"
      },
      "source": [
        "# Plot the original data, the trend, the seasonality, and the residuals \n",
        "\n",
        "from statsmodels.tsa.seasonal import seasonal_decompose\n",
        "data=seasonal_decompose(y,model='additive')\n",
        "data.plot()"
      ],
      "execution_count": null,
      "outputs": []
    },
    {
      "cell_type": "code",
      "metadata": {
        "id": "jas1Ai1qZmWj"
      },
      "source": [
        "from statsmodels.tsa.stattools import kpss\n",
        "kpss(y,nlags='legacy')"
      ],
      "execution_count": null,
      "outputs": []
    },
    {
      "cell_type": "code",
      "metadata": {
        "id": "OlEANM-6ZpYN"
      },
      "source": [
        "y_log=np.log(y)"
      ],
      "execution_count": null,
      "outputs": []
    },
    {
      "cell_type": "code",
      "metadata": {
        "id": "LHEsUFzYZsHf"
      },
      "source": [
        "y_log.plot()"
      ],
      "execution_count": null,
      "outputs": []
    },
    {
      "cell_type": "code",
      "metadata": {
        "id": "uFJVX1G1Zu6u"
      },
      "source": [
        "kpss(y_log.diff().dropna())"
      ],
      "execution_count": null,
      "outputs": []
    },
    {
      "cell_type": "code",
      "metadata": {
        "id": "YCxGObBAZxiu"
      },
      "source": [
        "# Make a function called evaluate_arima_model to find the MSE of a single ARIMA model \n",
        "def evaluate_arima_model(data, arima_order):\n",
        "    # Needs to be an integer because it is later used as an index.\n",
        "    # Use int()\n",
        "    split=int(len(data) * 0.8) \n",
        "    # Make train and test variables, with 'train, test'\n",
        "    train, test = data[0:split], data[split:len(data)]\n",
        "    past=[x for x in train]\n",
        "    # make predictions\n",
        "    predictions = list()\n",
        "    for i in range(len(test)):#timestep-wise comparison between test data and one-step prediction ARIMA model. \n",
        "        model = ARIMA(past, order=arima_order)\n",
        "        model_fit = model.fit(disp=0)\n",
        "        future = model_fit.forecast()[0]\n",
        "        predictions.append(future)\n",
        "        past.append(test[i])\n",
        "    # calculate out of sample error\n",
        "    error = mean_squared_error(test, predictions)\n",
        "    # Return the error\n",
        "    return error"
      ],
      "execution_count": null,
      "outputs": []
    },
    {
      "cell_type": "code",
      "metadata": {
        "id": "myberVN0aC89"
      },
      "source": [
        " #Make a function called evaluate_models to evaluate different ARIMA models with several different p, d, and q values.\n",
        "def evaluate_models(dataset, p_values, d_values, q_values):\n",
        "    best_score, best_cfg = float(\"inf\"), None\n",
        "    # Iterate through p_values\n",
        "    for p in p_values:\n",
        "        # Iterate through d_values\n",
        "        for d in d_values:\n",
        "            # Iterate through q_values\n",
        "            for q in q_values:\n",
        "                # p, d, q iterator variables in that order\n",
        "                order = (p,d,q)\n",
        "                try:\n",
        "                    # Make a variable called mse for the Mean squared error\n",
        "                    mse = evaluate_arima_model(dataset, order)\n",
        "                    if mse < best_score:\n",
        "                        best_score, best_cfg = mse, order\n",
        "                    print('ARIMA%s MSE=%.3f' % (order,mse))\n",
        "                except:\n",
        "                    continue\n",
        "    return print('Best ARIMA%s MSE=%.3f' % (best_cfg, best_score))"
      ],
      "execution_count": null,
      "outputs": []
    },
    {
      "cell_type": "code",
      "metadata": {
        "id": "TdAyknXOaIEO"
      },
      "source": [
        "# Now, we choose a couple of values to try for each parameter: p_values, d_values and q_values\n",
        "# Fill in the blanks as appropriate\n",
        "p_values = [x for x in range(0, 3)]\n",
        "d_values = [x for x in range(0, 3)]\n",
        "q_values = [x for x in range(0, 3)]"
      ],
      "execution_count": null,
      "outputs": []
    },
    {
      "cell_type": "code",
      "metadata": {
        "id": "9_0qe_oQaKgf"
      },
      "source": [
        "# Finally, we can find the optimum ARIMA model for our data.\n",
        "# Nb. this can take a while...!\n",
        "import warnings\n",
        "warnings.filterwarnings(\"ignore\")\n",
        "evaluate_models(y_log, p_values, d_values, q_values)"
      ],
      "execution_count": null,
      "outputs": []
    },
    {
      "cell_type": "code",
      "metadata": {
        "id": "jh_Nzvk6aLXk"
      },
      "source": [
        "p=2\n",
        "d=0\n",
        "q=0\n",
        "model = ARIMA(y_log, order=(p,d,q))\n",
        "model_fit = model.fit()\n",
        "forecast = model_fit.forecast(24)"
      ],
      "execution_count": null,
      "outputs": []
    },
    {
      "cell_type": "code",
      "metadata": {
        "id": "Gr2YzgrNaNnA"
      },
      "source": [
        "import matplotlib as plt\n",
        "\n",
        "from matplotlib import *\n",
        "import sys\n",
        "import pylab as pl\n",
        "pl.figure(figsize =(17,5))\n",
        "pl.plot(y_log.diff())\n",
        "pl.plot(model_fit.predict(),color='red')"
      ],
      "execution_count": null,
      "outputs": []
    },
    {
      "cell_type": "code",
      "metadata": {
        "id": "xGxQ94P0aSiZ"
      },
      "source": [
        "import matplotlib.pyplot as plt\n",
        "# Declare a variable called forecast_period with the amount of months to forecast, and\n",
        "# create a range of future dates that is the length of the periods you've chosen to forecast\n",
        "forecast_period = 24\n",
        "date_range = pd.date_range(y.index[-1], periods = forecast_period, \n",
        "              freq='MS').strftime(\"%Y-%m-%d\").tolist()\n",
        "\n",
        "# Convert that range into a dataframe that includes your predictions\n",
        "\n",
        "future_months = pd.DataFrame(date_range, columns = ['Month'])\n",
        "future_months['Month'] = pd.to_datetime(future_months['Month'])\n",
        "future_months.set_index('Month', inplace = True)\n",
        "future_months['Prediction'] = forecast[0]\n",
        "# Plot your future predictions\n",
        "plt.figure(figsize=(15,10))\n",
        "plt.plot(y)\n",
        "plt.plot(np.exp(y_log.append(future_months['Prediction'])))\n",
        "plt.show()\n",
        "yforcast = np.exp(y_log.append(future_months['Prediction']))\n",
        "#y_hats  = pd.DataFrame({'A' : yforcast})\n",
        "#y_hats \n"
      ],
      "execution_count": null,
      "outputs": []
    }
  ]
}