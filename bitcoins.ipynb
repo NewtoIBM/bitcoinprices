{
 "cells": [
  {
   "cell_type": "code",
   "execution_count": 2,
   "metadata": {},
   "outputs": [],
   "source": [
    "import numpy as np\n",
    "import pandas as pd"
   ]
  },
  {
   "cell_type": "code",
   "execution_count": 5,
   "metadata": {
    "id": "XAQQmd3wZEw8"
   },
   "outputs": [
    {
     "data": {
      "text/html": [
       "<div>\n",
       "<style scoped>\n",
       "    .dataframe tbody tr th:only-of-type {\n",
       "        vertical-align: middle;\n",
       "    }\n",
       "\n",
       "    .dataframe tbody tr th {\n",
       "        vertical-align: top;\n",
       "    }\n",
       "\n",
       "    .dataframe thead th {\n",
       "        text-align: right;\n",
       "    }\n",
       "</style>\n",
       "<table border=\"1\" class=\"dataframe\">\n",
       "  <thead>\n",
       "    <tr style=\"text-align: right;\">\n",
       "      <th></th>\n",
       "      <th>Date</th>\n",
       "      <th>Price</th>\n",
       "      <th>Open</th>\n",
       "      <th>High</th>\n",
       "      <th>Low</th>\n",
       "      <th>Vol.</th>\n",
       "      <th>Change %</th>\n",
       "    </tr>\n",
       "  </thead>\n",
       "  <tbody>\n",
       "    <tr>\n",
       "      <th>0</th>\n",
       "      <td>Mar 11, 2021</td>\n",
       "      <td>56.850</td>\n",
       "      <td>55.850</td>\n",
       "      <td>57.11</td>\n",
       "      <td>54.35</td>\n",
       "      <td>128.09</td>\n",
       "      <td>1.79</td>\n",
       "    </tr>\n",
       "    <tr>\n",
       "      <th>1</th>\n",
       "      <td>Mar 10, 2021</td>\n",
       "      <td>56.060</td>\n",
       "      <td>54.880</td>\n",
       "      <td>564.61</td>\n",
       "      <td>53.07</td>\n",
       "      <td>112.81</td>\n",
       "      <td>2.15</td>\n",
       "    </tr>\n",
       "    <tr>\n",
       "      <th>2</th>\n",
       "      <td>Mar 09, 2021</td>\n",
       "      <td>53.690</td>\n",
       "      <td>52.350</td>\n",
       "      <td>54.08</td>\n",
       "      <td>51.94</td>\n",
       "      <td>103.83</td>\n",
       "      <td>2.64</td>\n",
       "    </tr>\n",
       "    <tr>\n",
       "      <th>3</th>\n",
       "      <td>Mar 08, 2021</td>\n",
       "      <td>52.310</td>\n",
       "      <td>50.990</td>\n",
       "      <td>52.38</td>\n",
       "      <td>49.34</td>\n",
       "      <td>68.14</td>\n",
       "      <td>2.61</td>\n",
       "    </tr>\n",
       "    <tr>\n",
       "      <th>4</th>\n",
       "      <td>Mar 07, 2021</td>\n",
       "      <td>50.980</td>\n",
       "      <td>48.900</td>\n",
       "      <td>51.43</td>\n",
       "      <td>48.89</td>\n",
       "      <td>82.91</td>\n",
       "      <td>4.35</td>\n",
       "    </tr>\n",
       "    <tr>\n",
       "      <th>5</th>\n",
       "      <td>Mar 06, 2021</td>\n",
       "      <td>39.260</td>\n",
       "      <td>38.300</td>\n",
       "      <td>40.94</td>\n",
       "      <td>38.28</td>\n",
       "      <td>156.02</td>\n",
       "      <td>2.50</td>\n",
       "    </tr>\n",
       "    <tr>\n",
       "      <th>6</th>\n",
       "      <td>Mar 05, 2021</td>\n",
       "      <td>38.850</td>\n",
       "      <td>39.230</td>\n",
       "      <td>39.69</td>\n",
       "      <td>37.38</td>\n",
       "      <td>125.37</td>\n",
       "      <td>-1.03</td>\n",
       "    </tr>\n",
       "    <tr>\n",
       "      <th>7</th>\n",
       "      <td>Mar 04, 2021</td>\n",
       "      <td>46.400</td>\n",
       "      <td>38.850</td>\n",
       "      <td>46.60</td>\n",
       "      <td>38.06</td>\n",
       "      <td>248.47</td>\n",
       "      <td>19.41</td>\n",
       "    </tr>\n",
       "    <tr>\n",
       "      <th>8</th>\n",
       "      <td>Mar 03, 2021</td>\n",
       "      <td>46.510</td>\n",
       "      <td>46.400</td>\n",
       "      <td>48.14</td>\n",
       "      <td>45.10</td>\n",
       "      <td>193.87</td>\n",
       "      <td>0.24</td>\n",
       "    </tr>\n",
       "    <tr>\n",
       "      <th>9</th>\n",
       "      <td>Mar 02, 2021</td>\n",
       "      <td>44.836</td>\n",
       "      <td>46.510</td>\n",
       "      <td>47.30</td>\n",
       "      <td>43.80</td>\n",
       "      <td>151.83</td>\n",
       "      <td>-3.60</td>\n",
       "    </tr>\n",
       "    <tr>\n",
       "      <th>10</th>\n",
       "      <td>Mar 01, 2021</td>\n",
       "      <td>47.990</td>\n",
       "      <td>44.830</td>\n",
       "      <td>48.62</td>\n",
       "      <td>44.04</td>\n",
       "      <td>145.77</td>\n",
       "      <td>7.04</td>\n",
       "    </tr>\n",
       "    <tr>\n",
       "      <th>11</th>\n",
       "      <td>Feb 28, 2021</td>\n",
       "      <td>49.000</td>\n",
       "      <td>48.790</td>\n",
       "      <td>49.19</td>\n",
       "      <td>47.13</td>\n",
       "      <td>66.58</td>\n",
       "      <td>0.44</td>\n",
       "    </tr>\n",
       "    <tr>\n",
       "      <th>12</th>\n",
       "      <td>Feb 27, 2021</td>\n",
       "      <td>48.790</td>\n",
       "      <td>48.360</td>\n",
       "      <td>49.43</td>\n",
       "      <td>46.37</td>\n",
       "      <td>113.64</td>\n",
       "      <td>0.75</td>\n",
       "    </tr>\n",
       "    <tr>\n",
       "      <th>13</th>\n",
       "      <td>Feb 26, 2021</td>\n",
       "      <td>48.420</td>\n",
       "      <td>50.388</td>\n",
       "      <td>51.76</td>\n",
       "      <td>47.52</td>\n",
       "      <td>9.56</td>\n",
       "      <td>-3.90</td>\n",
       "    </tr>\n",
       "    <tr>\n",
       "      <th>14</th>\n",
       "      <td>Feb 25, 2021</td>\n",
       "      <td>50.400</td>\n",
       "      <td>48.420</td>\n",
       "      <td>52.57</td>\n",
       "      <td>48.16</td>\n",
       "      <td>44.93</td>\n",
       "      <td>4.07</td>\n",
       "    </tr>\n",
       "    <tr>\n",
       "      <th>15</th>\n",
       "      <td>Feb 24, 2021</td>\n",
       "      <td>48.420</td>\n",
       "      <td>49.600</td>\n",
       "      <td>50.19</td>\n",
       "      <td>47.10</td>\n",
       "      <td>102.10</td>\n",
       "      <td>-2.36</td>\n",
       "    </tr>\n",
       "    <tr>\n",
       "      <th>16</th>\n",
       "      <td>Feb 23, 2021</td>\n",
       "      <td>49.600</td>\n",
       "      <td>45.160</td>\n",
       "      <td>49.77</td>\n",
       "      <td>45.01</td>\n",
       "      <td>137.52</td>\n",
       "      <td>9.81</td>\n",
       "    </tr>\n",
       "    <tr>\n",
       "      <th>17</th>\n",
       "      <td>Feb 22, 2021</td>\n",
       "      <td>45.164</td>\n",
       "      <td>46.136</td>\n",
       "      <td>46.58</td>\n",
       "      <td>43.10</td>\n",
       "      <td>135.08</td>\n",
       "      <td>-2.11</td>\n",
       "    </tr>\n",
       "    <tr>\n",
       "      <th>18</th>\n",
       "      <td>Feb 21, 2021</td>\n",
       "      <td>46.140</td>\n",
       "      <td>46.330</td>\n",
       "      <td>48.34</td>\n",
       "      <td>45.06</td>\n",
       "      <td>98.75</td>\n",
       "      <td>-0.45</td>\n",
       "    </tr>\n",
       "    <tr>\n",
       "      <th>19</th>\n",
       "      <td>Feb 20, 2021</td>\n",
       "      <td>46.350</td>\n",
       "      <td>46.930</td>\n",
       "      <td>48.41</td>\n",
       "      <td>44.25</td>\n",
       "      <td>189.41</td>\n",
       "      <td>-1.24</td>\n",
       "    </tr>\n",
       "    <tr>\n",
       "      <th>20</th>\n",
       "      <td>Feb 19, 2021</td>\n",
       "      <td>46.930</td>\n",
       "      <td>49.700</td>\n",
       "      <td>52.01</td>\n",
       "      <td>46.77</td>\n",
       "      <td>83.22</td>\n",
       "      <td>-5.57</td>\n",
       "    </tr>\n",
       "    <tr>\n",
       "      <th>21</th>\n",
       "      <td>Feb 18, 2021</td>\n",
       "      <td>49.700</td>\n",
       "      <td>48.910</td>\n",
       "      <td>51.31</td>\n",
       "      <td>47.03</td>\n",
       "      <td>153.75</td>\n",
       "      <td>1.61</td>\n",
       "    </tr>\n",
       "    <tr>\n",
       "      <th>22</th>\n",
       "      <td>Feb 17, 2021</td>\n",
       "      <td>48.910</td>\n",
       "      <td>54.110</td>\n",
       "      <td>54.12</td>\n",
       "      <td>45.09</td>\n",
       "      <td>315.07</td>\n",
       "      <td>-9.61</td>\n",
       "    </tr>\n",
       "    <tr>\n",
       "      <th>23</th>\n",
       "      <td>Feb 16, 2021</td>\n",
       "      <td>54.110</td>\n",
       "      <td>57.440</td>\n",
       "      <td>57.48</td>\n",
       "      <td>48.35</td>\n",
       "      <td>244.95</td>\n",
       "      <td>-5.78</td>\n",
       "    </tr>\n",
       "    <tr>\n",
       "      <th>24</th>\n",
       "      <td>Feb 15, 2021</td>\n",
       "      <td>57.430</td>\n",
       "      <td>55.910</td>\n",
       "      <td>58.34</td>\n",
       "      <td>55.50</td>\n",
       "      <td>87.26</td>\n",
       "      <td>2.70</td>\n",
       "    </tr>\n",
       "    <tr>\n",
       "      <th>25</th>\n",
       "      <td>Feb 14, 2021</td>\n",
       "      <td>55.920</td>\n",
       "      <td>55.922</td>\n",
       "      <td>57.52</td>\n",
       "      <td>54.12</td>\n",
       "      <td>127.85</td>\n",
       "      <td>0.03</td>\n",
       "    </tr>\n",
       "    <tr>\n",
       "      <th>26</th>\n",
       "      <td>Feb 13, 2021</td>\n",
       "      <td>55.910</td>\n",
       "      <td>51.590</td>\n",
       "      <td>56.24</td>\n",
       "      <td>50.82</td>\n",
       "      <td>139.43</td>\n",
       "      <td>8.38</td>\n",
       "    </tr>\n",
       "    <tr>\n",
       "      <th>27</th>\n",
       "      <td>Feb 12, 2021</td>\n",
       "      <td>51.580</td>\n",
       "      <td>52.090</td>\n",
       "      <td>52.52</td>\n",
       "      <td>50.94</td>\n",
       "      <td>94.35</td>\n",
       "      <td>-0.95</td>\n",
       "    </tr>\n",
       "    <tr>\n",
       "      <th>28</th>\n",
       "      <td>Feb 11, 2021</td>\n",
       "      <td>52.080</td>\n",
       "      <td>49.160</td>\n",
       "      <td>52.58</td>\n",
       "      <td>49.02</td>\n",
       "      <td>140.03</td>\n",
       "      <td>5.92</td>\n",
       "    </tr>\n",
       "    <tr>\n",
       "      <th>29</th>\n",
       "      <td>Feb 10, 2021</td>\n",
       "      <td>49.170</td>\n",
       "      <td>47.930</td>\n",
       "      <td>50.52</td>\n",
       "      <td>47.04</td>\n",
       "      <td>141.37</td>\n",
       "      <td>2.57</td>\n",
       "    </tr>\n",
       "    <tr>\n",
       "      <th>30</th>\n",
       "      <td>Feb 09, 2021</td>\n",
       "      <td>47.940</td>\n",
       "      <td>48.610</td>\n",
       "      <td>48.94</td>\n",
       "      <td>45.79</td>\n",
       "      <td>123.18</td>\n",
       "      <td>-1.45</td>\n",
       "    </tr>\n",
       "    <tr>\n",
       "      <th>31</th>\n",
       "      <td>Feb 08, 2021</td>\n",
       "      <td>48.640</td>\n",
       "      <td>47.170</td>\n",
       "      <td>49.70</td>\n",
       "      <td>47.05</td>\n",
       "      <td>106.50</td>\n",
       "      <td>3.13</td>\n",
       "    </tr>\n",
       "    <tr>\n",
       "      <th>32</th>\n",
       "      <td>Feb 07, 2021</td>\n",
       "      <td>47.170</td>\n",
       "      <td>47.370</td>\n",
       "      <td>48.10</td>\n",
       "      <td>46.27</td>\n",
       "      <td>89.42</td>\n",
       "      <td>-0.43</td>\n",
       "    </tr>\n",
       "    <tr>\n",
       "      <th>33</th>\n",
       "      <td>Feb 06, 2021</td>\n",
       "      <td>47.370</td>\n",
       "      <td>48.000</td>\n",
       "      <td>48.93</td>\n",
       "      <td>46.22</td>\n",
       "      <td>133.73</td>\n",
       "      <td>-1.29</td>\n",
       "    </tr>\n",
       "  </tbody>\n",
       "</table>\n",
       "</div>"
      ],
      "text/plain": [
       "            Date   Price    Open    High    Low    Vol.  Change %\n",
       "0   Mar 11, 2021  56.850  55.850   57.11  54.35  128.09      1.79\n",
       "1   Mar 10, 2021  56.060  54.880  564.61  53.07  112.81      2.15\n",
       "2   Mar 09, 2021  53.690  52.350   54.08  51.94  103.83      2.64\n",
       "3   Mar 08, 2021  52.310  50.990   52.38  49.34   68.14      2.61\n",
       "4   Mar 07, 2021  50.980  48.900   51.43  48.89   82.91      4.35\n",
       "5   Mar 06, 2021  39.260  38.300   40.94  38.28  156.02      2.50\n",
       "6   Mar 05, 2021  38.850  39.230   39.69  37.38  125.37     -1.03\n",
       "7   Mar 04, 2021  46.400  38.850   46.60  38.06  248.47     19.41\n",
       "8   Mar 03, 2021  46.510  46.400   48.14  45.10  193.87      0.24\n",
       "9   Mar 02, 2021  44.836  46.510   47.30  43.80  151.83     -3.60\n",
       "10  Mar 01, 2021  47.990  44.830   48.62  44.04  145.77      7.04\n",
       "11  Feb 28, 2021  49.000  48.790   49.19  47.13   66.58      0.44\n",
       "12  Feb 27, 2021  48.790  48.360   49.43  46.37  113.64      0.75\n",
       "13  Feb 26, 2021  48.420  50.388   51.76  47.52    9.56     -3.90\n",
       "14  Feb 25, 2021  50.400  48.420   52.57  48.16   44.93      4.07\n",
       "15  Feb 24, 2021  48.420  49.600   50.19  47.10  102.10     -2.36\n",
       "16  Feb 23, 2021  49.600  45.160   49.77  45.01  137.52      9.81\n",
       "17  Feb 22, 2021  45.164  46.136   46.58  43.10  135.08     -2.11\n",
       "18  Feb 21, 2021  46.140  46.330   48.34  45.06   98.75     -0.45\n",
       "19  Feb 20, 2021  46.350  46.930   48.41  44.25  189.41     -1.24\n",
       "20  Feb 19, 2021  46.930  49.700   52.01  46.77   83.22     -5.57\n",
       "21  Feb 18, 2021  49.700  48.910   51.31  47.03  153.75      1.61\n",
       "22  Feb 17, 2021  48.910  54.110   54.12  45.09  315.07     -9.61\n",
       "23  Feb 16, 2021  54.110  57.440   57.48  48.35  244.95     -5.78\n",
       "24  Feb 15, 2021  57.430  55.910   58.34  55.50   87.26      2.70\n",
       "25  Feb 14, 2021  55.920  55.922   57.52  54.12  127.85      0.03\n",
       "26  Feb 13, 2021  55.910  51.590   56.24  50.82  139.43      8.38\n",
       "27  Feb 12, 2021  51.580  52.090   52.52  50.94   94.35     -0.95\n",
       "28  Feb 11, 2021  52.080  49.160   52.58  49.02  140.03      5.92\n",
       "29  Feb 10, 2021  49.170  47.930   50.52  47.04  141.37      2.57\n",
       "30  Feb 09, 2021  47.940  48.610   48.94  45.79  123.18     -1.45\n",
       "31  Feb 08, 2021  48.640  47.170   49.70  47.05  106.50      3.13\n",
       "32  Feb 07, 2021  47.170  47.370   48.10  46.27   89.42     -0.43\n",
       "33  Feb 06, 2021  47.370  48.000   48.93  46.22  133.73     -1.29"
      ]
     },
     "execution_count": 5,
     "metadata": {},
     "output_type": "execute_result"
    }
   ],
   "source": [
    "#Import Train and Test Data \n",
    "source  = '/Users/Administrator/Desktop/' \n",
    "datafile = pd.read_csv(source + 'Bitcoind.csv')\n",
    "#columns = ['Basic_Size','Gr','Target_Pull_Size']\n",
    "bitcoindf = pd.DataFrame(datafile)\n",
    "bitcoindf.tail(50)"
   ]
  },
  {
   "cell_type": "code",
   "execution_count": 6,
   "metadata": {
    "id": "fvbDR3aZZVwd"
   },
   "outputs": [],
   "source": [
    "#import modules\n",
    "from datetime import date\n",
    "#convert column \"date\" into datetime format\n",
    "bitcoindf['Date'] = pd.to_datetime(bitcoindf['Date'])\n"
   ]
  },
  {
   "cell_type": "code",
   "execution_count": 7,
   "metadata": {
    "id": "5svLNkZuZgJR"
   },
   "outputs": [
    {
     "data": {
      "text/html": [
       "<div>\n",
       "<style scoped>\n",
       "    .dataframe tbody tr th:only-of-type {\n",
       "        vertical-align: middle;\n",
       "    }\n",
       "\n",
       "    .dataframe tbody tr th {\n",
       "        vertical-align: top;\n",
       "    }\n",
       "\n",
       "    .dataframe thead th {\n",
       "        text-align: right;\n",
       "    }\n",
       "</style>\n",
       "<table border=\"1\" class=\"dataframe\">\n",
       "  <thead>\n",
       "    <tr style=\"text-align: right;\">\n",
       "      <th></th>\n",
       "      <th>Price</th>\n",
       "      <th>Open</th>\n",
       "      <th>High</th>\n",
       "      <th>Low</th>\n",
       "      <th>Vol.</th>\n",
       "      <th>Change %</th>\n",
       "    </tr>\n",
       "    <tr>\n",
       "      <th>Date</th>\n",
       "      <th></th>\n",
       "      <th></th>\n",
       "      <th></th>\n",
       "      <th></th>\n",
       "      <th></th>\n",
       "      <th></th>\n",
       "    </tr>\n",
       "  </thead>\n",
       "  <tbody>\n",
       "    <tr>\n",
       "      <th>2021-03-11</th>\n",
       "      <td>56.85</td>\n",
       "      <td>55.85</td>\n",
       "      <td>57.11</td>\n",
       "      <td>54.35</td>\n",
       "      <td>128.09</td>\n",
       "      <td>1.79</td>\n",
       "    </tr>\n",
       "    <tr>\n",
       "      <th>2021-03-10</th>\n",
       "      <td>56.06</td>\n",
       "      <td>54.88</td>\n",
       "      <td>564.61</td>\n",
       "      <td>53.07</td>\n",
       "      <td>112.81</td>\n",
       "      <td>2.15</td>\n",
       "    </tr>\n",
       "    <tr>\n",
       "      <th>2021-03-09</th>\n",
       "      <td>53.69</td>\n",
       "      <td>52.35</td>\n",
       "      <td>54.08</td>\n",
       "      <td>51.94</td>\n",
       "      <td>103.83</td>\n",
       "      <td>2.64</td>\n",
       "    </tr>\n",
       "    <tr>\n",
       "      <th>2021-03-08</th>\n",
       "      <td>52.31</td>\n",
       "      <td>50.99</td>\n",
       "      <td>52.38</td>\n",
       "      <td>49.34</td>\n",
       "      <td>68.14</td>\n",
       "      <td>2.61</td>\n",
       "    </tr>\n",
       "    <tr>\n",
       "      <th>2021-03-07</th>\n",
       "      <td>50.98</td>\n",
       "      <td>48.90</td>\n",
       "      <td>51.43</td>\n",
       "      <td>48.89</td>\n",
       "      <td>82.91</td>\n",
       "      <td>4.35</td>\n",
       "    </tr>\n",
       "  </tbody>\n",
       "</table>\n",
       "</div>"
      ],
      "text/plain": [
       "            Price   Open    High    Low    Vol.  Change %\n",
       "Date                                                     \n",
       "2021-03-11  56.85  55.85   57.11  54.35  128.09      1.79\n",
       "2021-03-10  56.06  54.88  564.61  53.07  112.81      2.15\n",
       "2021-03-09  53.69  52.35   54.08  51.94  103.83      2.64\n",
       "2021-03-08  52.31  50.99   52.38  49.34   68.14      2.61\n",
       "2021-03-07  50.98  48.90   51.43  48.89   82.91      4.35"
      ]
     },
     "execution_count": 7,
     "metadata": {},
     "output_type": "execute_result"
    }
   ],
   "source": [
    "bitcoindf=bitcoindf.set_index('Date')\n",
    "bitcoindf.head()"
   ]
  },
  {
   "cell_type": "code",
   "execution_count": 9,
   "metadata": {
    "id": "XUKrfRaDZi8f"
   },
   "outputs": [
    {
     "data": {
      "text/plain": [
       "<AxesSubplot:xlabel='Date'>"
      ]
     },
     "execution_count": 9,
     "metadata": {},
     "output_type": "execute_result"
    },
    {
     "data": {
      "image/png": "[encoded data removed]",
      "text/plain": [
       "<Figure size 432x288 with 1 Axes>"
      ]
     },
     "metadata": {
      "needs_background": "light"
     },
     "output_type": "display_data"
    }
   ],
   "source": [
    "#x and y axes input data\n",
    "y = bitcoindf['Price']\n",
    "y.plot()"
   ]
  },
  {
   "cell_type": "code",
   "execution_count": 10,
   "metadata": {
    "id": "I6PpJc6pZjyx"
   },
   "outputs": [
    {
     "data": {
      "image/png": "[encoded data removed]",
      "text/plain": [
       "<Figure size 432x288 with 4 Axes>"
      ]
     },
     "execution_count": 10,
     "metadata": {},
     "output_type": "execute_result"
    },
    {
     "data": {
      "image/png": "[encoded data removed]",
      "text/plain": [
       "<Figure size 432x288 with 4 Axes>"
      ]
     },
     "metadata": {
      "needs_background": "light"
     },
     "output_type": "display_data"
    }
   ],
   "source": [
    "# Plot the original data, the trend, the seasonality, and the residuals \n",
    "\n",
    "from statsmodels.tsa.seasonal import seasonal_decompose\n",
    "data=seasonal_decompose(y,model='additive')\n",
    "data.plot()"
   ]
  },
  {
   "cell_type": "markdown",
   "metadata": {},
   "source": [
    "Testing data for stationarity"
   ]
  },
  {
   "cell_type": "code",
   "execution_count": 11,
   "metadata": {
    "id": "jas1Ai1qZmWj"
   },
   "outputs": [
    {
     "name": "stderr",
     "output_type": "stream",
     "text": [
      "C:\\ProgramData\\Anaconda3\\lib\\site-packages\\statsmodels\\tsa\\stattools.py:1876: InterpolationWarning: The test statistic is outside of the range of p-values available in the\n",
      "look-up table. The actual p-value is greater than the p-value returned.\n",
      "\n",
      "  warnings.warn(warn_msg.format(direction=\"greater\"), InterpolationWarning)\n"
     ]
    },
    {
     "data": {
      "text/plain": [
       "(0.14929337877800952,\n",
       " 0.1,\n",
       " 10,\n",
       " {'10%': 0.347, '5%': 0.463, '2.5%': 0.574, '1%': 0.739})"
      ]
     },
     "execution_count": 11,
     "metadata": {},
     "output_type": "execute_result"
    }
   ],
   "source": [
    "from statsmodels.tsa.stattools import kpss\n",
    "kpss(y,nlags='legacy')"
   ]
  },
  {
   "cell_type": "markdown",
   "metadata": {},
   "source": [
    "Needs to make data stationary with log"
   ]
  },
  {
   "cell_type": "code",
   "execution_count": 12,
   "metadata": {
    "id": "OlEANM-6ZpYN"
   },
   "outputs": [],
   "source": [
    "y_log=np.log(y)"
   ]
  },
  {
   "cell_type": "code",
   "execution_count": 13,
   "metadata": {
    "id": "LHEsUFzYZsHf"
   },
   "outputs": [
    {
     "data": {
      "text/plain": [
       "<AxesSubplot:xlabel='Date'>"
      ]
     },
     "execution_count": 13,
     "metadata": {},
     "output_type": "execute_result"
    },
    {
     "data": {
      "image/png": "[encoded data removed]",
      "text/plain": [
       "<Figure size 432x288 with 1 Axes>"
      ]
     },
     "metadata": {
      "needs_background": "light"
     },
     "output_type": "display_data"
    }
   ],
   "source": [
    "y_log.plot()"
   ]
  },
  {
   "cell_type": "code",
   "execution_count": 14,
   "metadata": {
    "id": "uFJVX1G1Zu6u"
   },
   "outputs": [
    {
     "name": "stderr",
     "output_type": "stream",
     "text": [
      "C:\\ProgramData\\Anaconda3\\lib\\site-packages\\statsmodels\\tsa\\stattools.py:1843: FutureWarning: The behavior of using nlags=None will change in release 0.13.Currently nlags=None is the same as nlags=\"legacy\", and so a sample-size lag length is used. After the next release, the default will change to be the same as nlags=\"auto\" which uses an automatic lag length selection method. To silence this warning, either use \"auto\" or \"legacy\"\n",
      "  warnings.warn(msg, FutureWarning)\n",
      "C:\\ProgramData\\Anaconda3\\lib\\site-packages\\statsmodels\\tsa\\stattools.py:1876: InterpolationWarning: The test statistic is outside of the range of p-values available in the\n",
      "look-up table. The actual p-value is greater than the p-value returned.\n",
      "\n",
      "  warnings.warn(warn_msg.format(direction=\"greater\"), InterpolationWarning)\n"
     ]
    },
    {
     "data": {
      "text/plain": [
       "(0.2000137635215055,\n",
       " 0.1,\n",
       " 10,\n",
       " {'10%': 0.347, '5%': 0.463, '2.5%': 0.574, '1%': 0.739})"
      ]
     },
     "execution_count": 14,
     "metadata": {},
     "output_type": "execute_result"
    }
   ],
   "source": [
    "kpss(y_log.diff().dropna())"
   ]
  },
  {
   "cell_type": "code",
   "execution_count": 15,
   "metadata": {
    "id": "YCxGObBAZxiu"
   },
   "outputs": [],
   "source": [
    "# Make a function called evaluate_arima_model to find the MSE of a single ARIMA model \n",
    "def evaluate_arima_model(data, arima_order):\n",
    "    # Needs to be an integer because it is later used as an index.\n",
    "    # Use int()\n",
    "    split=int(len(data) * 0.8) \n",
    "    # Make train and test variables, with 'train, test'\n",
    "    train, test = data[0:split], data[split:len(data)]\n",
    "    past=[x for x in train]\n",
    "    # make predictions\n",
    "    predictions = list()\n",
    "    for i in range(len(test)):#timestep-wise comparison between test data and one-step prediction ARIMA model. \n",
    "        model = ARIMA(past, order=arima_order)\n",
    "        model_fit = model.fit(disp=0)\n",
    "        future = model_fit.forecast()[0]\n",
    "        predictions.append(future)\n",
    "        past.append(test[i])\n",
    "    # calculate out of sample error\n",
    "    error = mean_squared_error(test, predictions)\n",
    "    # Return the error\n",
    "    return error"
   ]
  },
  {
   "cell_type": "code",
   "execution_count": 16,
   "metadata": {
    "id": "myberVN0aC89"
   },
   "outputs": [],
   "source": [
    " #Make a function called evaluate_models to evaluate different ARIMA models with several different p, d, and q values.\n",
    "def evaluate_models(dataset, p_values, d_values, q_values):\n",
    "    best_score, best_cfg = float(\"inf\"), None\n",
    "    # Iterate through p_values\n",
    "    for p in p_values:\n",
    "        # Iterate through d_values\n",
    "        for d in d_values:\n",
    "            # Iterate through q_values\n",
    "            for q in q_values:\n",
    "                # p, d, q iterator variables in that order\n",
    "                order = (p,d,q)\n",
    "                try:\n",
    "                    # Make a variable called mse for the Mean squared error\n",
    "                    mse = evaluate_arima_model(dataset, order)\n",
    "                    if mse < best_score:\n",
    "                        best_score, best_cfg = mse, order\n",
    "                    print('ARIMA%s MSE=%.3f' % (order,mse))\n",
    "                except:\n",
    "                    continue\n",
    "    return print('Best ARIMA%s MSE=%.3f' % (best_cfg, best_score))"
   ]
  },
  {
   "cell_type": "code",
   "execution_count": 17,
   "metadata": {
    "id": "TdAyknXOaIEO"
   },
   "outputs": [],
   "source": [
    "# Now, we choose a couple of values to try for each parameter: p_values, d_values and q_values\n",
    "# Fill in the blanks as appropriate\n",
    "p_values = [x for x in range(0, 3)]\n",
    "d_values = [x for x in range(0, 3)]\n",
    "q_values = [x for x in range(0, 3)]"
   ]
  },
  {
   "cell_type": "markdown",
   "metadata": {},
   "source": [
    "Finally, we can find the optimum ARIMA model for our data."
   ]
  },
  {
   "cell_type": "code",
   "execution_count": 18,
   "metadata": {
    "id": "9_0qe_oQaKgf"
   },
   "outputs": [
    {
     "name": "stdout",
     "output_type": "stream",
     "text": [
      "Best ARIMANone MSE=inf\n"
     ]
    }
   ],
   "source": [
    "\n",
    "\n",
    "import warnings\n",
    "warnings.filterwarnings(\"ignore\")\n",
    "evaluate_models(y_log, p_values, d_values, q_values)"
   ]
  },
  {
   "cell_type": "markdown",
   "metadata": {},
   "source": [
    "# ARIMA Model"
   ]
  },
  {
   "cell_type": "code",
   "execution_count": 22,
   "metadata": {
    "id": "jh_Nzvk6aLXk"
   },
   "outputs": [],
   "source": [
    "from statsmodels.tsa.arima.model import ARIMA\n",
    "  \n",
    "p=2\n",
    "d=0\n",
    "q=0\n",
    "model = ARIMA(y_log, order=(p,d,q))\n",
    "model_fit = model.fit()\n",
    "forecast = model_fit.forecast(24)"
   ]
  },
  {
   "cell_type": "markdown",
   "metadata": {},
   "source": [
    "Testing for Model Fit"
   ]
  },
  {
   "cell_type": "code",
   "execution_count": 23,
   "metadata": {
    "id": "Gr2YzgrNaNnA"
   },
   "outputs": [
    {
     "data": {
      "text/plain": [
       "[<matplotlib.lines.Line2D at 0x1e9943e89d0>]"
      ]
     },
     "execution_count": 23,
     "metadata": {},
     "output_type": "execute_result"
    },
    {
     "data": {
      "image/png": "[encoded data removed]",
      "text/plain": [
       "<Figure size 1224x360 with 1 Axes>"
      ]
     },
     "metadata": {
      "needs_background": "light"
     },
     "output_type": "display_data"
    }
   ],
   "source": [
    "import matplotlib as plt\n",
    "\n",
    "from matplotlib import *\n",
    "import sys\n",
    "import pylab as pl\n",
    "pl.figure(figsize =(17,5))\n",
    "pl.plot(y_log.diff())\n",
    "pl.plot(model_fit.predict(),color='red')"
   ]
  },
  {
   "cell_type": "markdown",
   "metadata": {},
   "source": [
    "Model is not fit good because there is big difference and forecasting not going to be precise"
   ]
  },
  {
   "cell_type": "markdown",
   "metadata": {},
   "source": [
    "# Forecasting"
   ]
  },
  {
   "cell_type": "code",
   "execution_count": 28,
   "metadata": {
    "id": "xGxQ94P0aSiZ"
   },
   "outputs": [
    {
     "data": {
      "image/png": "[encoded data removed]",
      "text/plain": [
       "<Figure size 1080x720 with 1 Axes>"
      ]
     },
     "metadata": {
      "needs_background": "light"
     },
     "output_type": "display_data"
    }
   ],
   "source": [
    "import matplotlib.pyplot as plt\n",
    "# Declare a variable called forecast_period with the amount of months to forecast, and\n",
    "# create a range of future dates that is the length of the periods you've chosen to forecast\n",
    "forecast_period = 24\n",
    "date_range = pd.date_range(y.index[-1], periods = forecast_period, \n",
    "              freq='MS').strftime(\"%Y-%m-%d\").tolist()\n",
    "\n",
    "# Convert that range into a dataframe that includes your predictions\n",
    "\n",
    "future_months = pd.DataFrame(date_range, columns = ['Month'])\n",
    "future_months['Month'] = pd.to_datetime(future_months['Month'])\n",
    "future_months.set_index('Month', inplace = True)\n",
    "future_months['Prediction'] = forecast\n",
    "# Plot your future predictions\n",
    "plt.figure(figsize=(15,10))\n",
    "plt.plot(y)\n",
    "plt.plot(np.exp(y_log.append(future_months['Prediction'])))\n",
    "plt.show()\n",
    "yforcast = np.exp(y_log.append(future_months['Prediction']))\n"
   ]
  },
  {
   "cell_type": "code",
   "execution_count": 30,
   "metadata": {},
   "outputs": [
    {
     "data": {
      "text/html": [
       "<div>\n",
       "<style scoped>\n",
       "    .dataframe tbody tr th:only-of-type {\n",
       "        vertical-align: middle;\n",
       "    }\n",
       "\n",
       "    .dataframe tbody tr th {\n",
       "        vertical-align: top;\n",
       "    }\n",
       "\n",
       "    .dataframe thead th {\n",
       "        text-align: right;\n",
       "    }\n",
       "</style>\n",
       "<table border=\"1\" class=\"dataframe\">\n",
       "  <thead>\n",
       "    <tr style=\"text-align: right;\">\n",
       "      <th></th>\n",
       "      <th>Price</th>\n",
       "    </tr>\n",
       "  </thead>\n",
       "  <tbody>\n",
       "    <tr>\n",
       "      <th>2021-03-11</th>\n",
       "      <td>56.850</td>\n",
       "    </tr>\n",
       "    <tr>\n",
       "      <th>2021-03-10</th>\n",
       "      <td>56.060</td>\n",
       "    </tr>\n",
       "    <tr>\n",
       "      <th>2021-03-09</th>\n",
       "      <td>53.690</td>\n",
       "    </tr>\n",
       "    <tr>\n",
       "      <th>2021-03-08</th>\n",
       "      <td>52.310</td>\n",
       "    </tr>\n",
       "    <tr>\n",
       "      <th>2021-03-07</th>\n",
       "      <td>50.980</td>\n",
       "    </tr>\n",
       "    <tr>\n",
       "      <th>2021-03-06</th>\n",
       "      <td>39.260</td>\n",
       "    </tr>\n",
       "    <tr>\n",
       "      <th>2021-03-05</th>\n",
       "      <td>38.850</td>\n",
       "    </tr>\n",
       "    <tr>\n",
       "      <th>2021-03-04</th>\n",
       "      <td>46.400</td>\n",
       "    </tr>\n",
       "    <tr>\n",
       "      <th>2021-03-03</th>\n",
       "      <td>46.510</td>\n",
       "    </tr>\n",
       "    <tr>\n",
       "      <th>2021-03-02</th>\n",
       "      <td>44.836</td>\n",
       "    </tr>\n",
       "    <tr>\n",
       "      <th>2021-03-01</th>\n",
       "      <td>47.990</td>\n",
       "    </tr>\n",
       "    <tr>\n",
       "      <th>2021-02-28</th>\n",
       "      <td>49.000</td>\n",
       "    </tr>\n",
       "    <tr>\n",
       "      <th>2021-02-27</th>\n",
       "      <td>48.790</td>\n",
       "    </tr>\n",
       "    <tr>\n",
       "      <th>2021-02-26</th>\n",
       "      <td>48.420</td>\n",
       "    </tr>\n",
       "    <tr>\n",
       "      <th>2021-02-25</th>\n",
       "      <td>50.400</td>\n",
       "    </tr>\n",
       "    <tr>\n",
       "      <th>2021-02-24</th>\n",
       "      <td>48.420</td>\n",
       "    </tr>\n",
       "    <tr>\n",
       "      <th>2021-02-23</th>\n",
       "      <td>49.600</td>\n",
       "    </tr>\n",
       "    <tr>\n",
       "      <th>2021-02-22</th>\n",
       "      <td>45.164</td>\n",
       "    </tr>\n",
       "    <tr>\n",
       "      <th>2021-02-21</th>\n",
       "      <td>46.140</td>\n",
       "    </tr>\n",
       "    <tr>\n",
       "      <th>2021-02-20</th>\n",
       "      <td>46.350</td>\n",
       "    </tr>\n",
       "    <tr>\n",
       "      <th>2021-02-19</th>\n",
       "      <td>46.930</td>\n",
       "    </tr>\n",
       "    <tr>\n",
       "      <th>2021-02-18</th>\n",
       "      <td>49.700</td>\n",
       "    </tr>\n",
       "    <tr>\n",
       "      <th>2021-02-17</th>\n",
       "      <td>48.910</td>\n",
       "    </tr>\n",
       "    <tr>\n",
       "      <th>2021-02-16</th>\n",
       "      <td>54.110</td>\n",
       "    </tr>\n",
       "    <tr>\n",
       "      <th>2021-02-15</th>\n",
       "      <td>57.430</td>\n",
       "    </tr>\n",
       "    <tr>\n",
       "      <th>2021-02-14</th>\n",
       "      <td>55.920</td>\n",
       "    </tr>\n",
       "    <tr>\n",
       "      <th>2021-02-13</th>\n",
       "      <td>55.910</td>\n",
       "    </tr>\n",
       "    <tr>\n",
       "      <th>2021-02-12</th>\n",
       "      <td>51.580</td>\n",
       "    </tr>\n",
       "    <tr>\n",
       "      <th>2021-02-11</th>\n",
       "      <td>52.080</td>\n",
       "    </tr>\n",
       "    <tr>\n",
       "      <th>2021-02-10</th>\n",
       "      <td>49.170</td>\n",
       "    </tr>\n",
       "    <tr>\n",
       "      <th>2021-02-09</th>\n",
       "      <td>47.940</td>\n",
       "    </tr>\n",
       "    <tr>\n",
       "      <th>2021-02-08</th>\n",
       "      <td>48.640</td>\n",
       "    </tr>\n",
       "    <tr>\n",
       "      <th>2021-02-07</th>\n",
       "      <td>47.170</td>\n",
       "    </tr>\n",
       "    <tr>\n",
       "      <th>2021-02-06</th>\n",
       "      <td>47.370</td>\n",
       "    </tr>\n",
       "    <tr>\n",
       "      <th>2021-03-01</th>\n",
       "      <td>NaN</td>\n",
       "    </tr>\n",
       "    <tr>\n",
       "      <th>2021-04-01</th>\n",
       "      <td>NaN</td>\n",
       "    </tr>\n",
       "    <tr>\n",
       "      <th>2021-05-01</th>\n",
       "      <td>NaN</td>\n",
       "    </tr>\n",
       "    <tr>\n",
       "      <th>2021-06-01</th>\n",
       "      <td>NaN</td>\n",
       "    </tr>\n",
       "    <tr>\n",
       "      <th>2021-07-01</th>\n",
       "      <td>NaN</td>\n",
       "    </tr>\n",
       "    <tr>\n",
       "      <th>2021-08-01</th>\n",
       "      <td>NaN</td>\n",
       "    </tr>\n",
       "    <tr>\n",
       "      <th>2021-09-01</th>\n",
       "      <td>NaN</td>\n",
       "    </tr>\n",
       "    <tr>\n",
       "      <th>2021-10-01</th>\n",
       "      <td>NaN</td>\n",
       "    </tr>\n",
       "    <tr>\n",
       "      <th>2021-11-01</th>\n",
       "      <td>NaN</td>\n",
       "    </tr>\n",
       "    <tr>\n",
       "      <th>2021-12-01</th>\n",
       "      <td>NaN</td>\n",
       "    </tr>\n",
       "    <tr>\n",
       "      <th>2022-01-01</th>\n",
       "      <td>NaN</td>\n",
       "    </tr>\n",
       "    <tr>\n",
       "      <th>2022-02-01</th>\n",
       "      <td>NaN</td>\n",
       "    </tr>\n",
       "    <tr>\n",
       "      <th>2022-03-01</th>\n",
       "      <td>NaN</td>\n",
       "    </tr>\n",
       "    <tr>\n",
       "      <th>2022-04-01</th>\n",
       "      <td>NaN</td>\n",
       "    </tr>\n",
       "    <tr>\n",
       "      <th>2022-05-01</th>\n",
       "      <td>NaN</td>\n",
       "    </tr>\n",
       "    <tr>\n",
       "      <th>2022-06-01</th>\n",
       "      <td>NaN</td>\n",
       "    </tr>\n",
       "    <tr>\n",
       "      <th>2022-07-01</th>\n",
       "      <td>NaN</td>\n",
       "    </tr>\n",
       "    <tr>\n",
       "      <th>2022-08-01</th>\n",
       "      <td>NaN</td>\n",
       "    </tr>\n",
       "    <tr>\n",
       "      <th>2022-09-01</th>\n",
       "      <td>NaN</td>\n",
       "    </tr>\n",
       "    <tr>\n",
       "      <th>2022-10-01</th>\n",
       "      <td>NaN</td>\n",
       "    </tr>\n",
       "    <tr>\n",
       "      <th>2022-11-01</th>\n",
       "      <td>NaN</td>\n",
       "    </tr>\n",
       "    <tr>\n",
       "      <th>2022-12-01</th>\n",
       "      <td>NaN</td>\n",
       "    </tr>\n",
       "    <tr>\n",
       "      <th>2023-01-01</th>\n",
       "      <td>NaN</td>\n",
       "    </tr>\n",
       "    <tr>\n",
       "      <th>2023-02-01</th>\n",
       "      <td>NaN</td>\n",
       "    </tr>\n",
       "  </tbody>\n",
       "</table>\n",
       "</div>"
      ],
      "text/plain": [
       "             Price\n",
       "2021-03-11  56.850\n",
       "2021-03-10  56.060\n",
       "2021-03-09  53.690\n",
       "2021-03-08  52.310\n",
       "2021-03-07  50.980\n",
       "2021-03-06  39.260\n",
       "2021-03-05  38.850\n",
       "2021-03-04  46.400\n",
       "2021-03-03  46.510\n",
       "2021-03-02  44.836\n",
       "2021-03-01  47.990\n",
       "2021-02-28  49.000\n",
       "2021-02-27  48.790\n",
       "2021-02-26  48.420\n",
       "2021-02-25  50.400\n",
       "2021-02-24  48.420\n",
       "2021-02-23  49.600\n",
       "2021-02-22  45.164\n",
       "2021-02-21  46.140\n",
       "2021-02-20  46.350\n",
       "2021-02-19  46.930\n",
       "2021-02-18  49.700\n",
       "2021-02-17  48.910\n",
       "2021-02-16  54.110\n",
       "2021-02-15  57.430\n",
       "2021-02-14  55.920\n",
       "2021-02-13  55.910\n",
       "2021-02-12  51.580\n",
       "2021-02-11  52.080\n",
       "2021-02-10  49.170\n",
       "2021-02-09  47.940\n",
       "2021-02-08  48.640\n",
       "2021-02-07  47.170\n",
       "2021-02-06  47.370\n",
       "2021-03-01     NaN\n",
       "2021-04-01     NaN\n",
       "2021-05-01     NaN\n",
       "2021-06-01     NaN\n",
       "2021-07-01     NaN\n",
       "2021-08-01     NaN\n",
       "2021-09-01     NaN\n",
       "2021-10-01     NaN\n",
       "2021-11-01     NaN\n",
       "2021-12-01     NaN\n",
       "2022-01-01     NaN\n",
       "2022-02-01     NaN\n",
       "2022-03-01     NaN\n",
       "2022-04-01     NaN\n",
       "2022-05-01     NaN\n",
       "2022-06-01     NaN\n",
       "2022-07-01     NaN\n",
       "2022-08-01     NaN\n",
       "2022-09-01     NaN\n",
       "2022-10-01     NaN\n",
       "2022-11-01     NaN\n",
       "2022-12-01     NaN\n",
       "2023-01-01     NaN\n",
       "2023-02-01     NaN"
      ]
     },
     "execution_count": 30,
     "metadata": {},
     "output_type": "execute_result"
    }
   ],
   "source": [
    "y_hats  = pd.DataFrame({'Price' : yforcast})\n",
    "y_hats \n"
   ]
  },
  {
   "cell_type": "markdown",
   "metadata": {},
   "source": [
    "ARIMA Model is not the best to forecast Bitcoin but there better models for this job , Facebook Prophet would work the best here."
   ]
  },
  {
   "cell_type": "code",
   "execution_count": null,
   "metadata": {},
   "outputs": [],
   "source": []
  }
 ],
 "metadata": {
  "colab": {
   "collapsed_sections": [],
   "name": "bitcoins.ipynb",
   "provenance": []
  },
  "kernelspec": {
   "display_name": "Python 3",
   "language": "python",
   "name": "python3"
  },
  "language_info": {
   "codemirror_mode": {
    "name": "ipython",
    "version": 3
   },
   "file_extension": ".py",
   "mimetype": "text/x-python",
   "name": "python",
   "nbconvert_exporter": "python",
   "pygments_lexer": "ipython3",
   "version": "3.8.5"
  }
 },
 "nbformat": 4,
 "nbformat_minor": 1
}
